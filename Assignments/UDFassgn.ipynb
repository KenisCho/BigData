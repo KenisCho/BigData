{
 "cells": [
  {
   "cell_type": "code",
   "execution_count": 1,
   "id": "faec4c69-c449-46db-b793-0cbf353d386c",
   "metadata": {},
   "outputs": [],
   "source": [
    "from pyspark.sql import SparkSession\n",
    "\n",
    "spark = SparkSession.builder.master('local').appName('assign').getOrCreate()"
   ]
  },
  {
   "cell_type": "code",
   "execution_count": 2,
   "id": "892dc757-f511-4ebb-afea-9600a8e39aec",
   "metadata": {},
   "outputs": [],
   "source": [
    "# 샘플 데이터: 이름 및 나이\n",
    "age_name = [\n",
    "    ('영준', 24),\n",
    "    ('철수', 25),\n",
    "    ('영희', 39),\n",
    "    ('맹구', 60),\n",
    "    ('짱구', 54),\n",
    "    ('민석', 40),\n",
    "    ('화성', 70)\n",
    "]"
   ]
  },
  {
   "cell_type": "code",
   "execution_count": 4,
   "id": "a8cd5571-01a8-4ed6-b0cc-7938bfe30704",
   "metadata": {},
   "outputs": [],
   "source": [
    "schema = ['name', 'age']"
   ]
  },
  {
   "cell_type": "code",
   "execution_count": 5,
   "id": "1c014608-c70c-4259-9ac7-f7f528403162",
   "metadata": {},
   "outputs": [],
   "source": [
    "df = spark.createDataFrame(age_name, schema)"
   ]
  },
  {
   "cell_type": "code",
   "execution_count": 6,
   "id": "6a96c107-dc04-4f58-a081-938c66d3fa12",
   "metadata": {},
   "outputs": [
    {
     "name": "stdout",
     "output_type": "stream",
     "text": [
      "+----+---+\n",
      "|name|age|\n",
      "+----+---+\n",
      "|영준| 24|\n",
      "|철수| 25|\n",
      "|영희| 39|\n",
      "|맹구| 60|\n",
      "|짱구| 54|\n",
      "|민석| 40|\n",
      "|화성| 70|\n",
      "+----+---+\n",
      "\n"
     ]
    }
   ],
   "source": [
    "df.show()"
   ]
  },
  {
   "cell_type": "code",
   "execution_count": 8,
   "id": "86bdcdc2-8be1-49e5-8edf-f6d6668d848b",
   "metadata": {},
   "outputs": [],
   "source": [
    "# [+] Temporary View 생성\n",
    "df.createOrReplaceTempView('age_name')"
   ]
  },
  {
   "cell_type": "code",
   "execution_count": 12,
   "id": "3ea14239-6741-412d-8060-ebbde0682942",
   "metadata": {},
   "outputs": [],
   "source": [
    "#35살 미만: 'young' 35살-59살: 'adult' 60살 이상: 'senior'\n",
    "def age_category(age):\n",
    "    if age < 35:\n",
    "        return 'young'\n",
    "    elif age < 60:\n",
    "        return 'adult'\n",
    "    else:\n",
    "        return 'senior'\n",
    "        "
   ]
  },
  {
   "cell_type": "code",
   "execution_count": 13,
   "id": "cc7d386c-eb42-4c01-a847-59367e19a9e6",
   "metadata": {},
   "outputs": [
    {
     "data": {
      "text/plain": [
       "<function __main__.age_category(age)>"
      ]
     },
     "execution_count": 13,
     "metadata": {},
     "output_type": "execute_result"
    }
   ],
   "source": [
    "spark.udf.register(\"age_category\", age_category)"
   ]
  },
  {
   "cell_type": "code",
   "execution_count": 14,
   "id": "528c088e-2d09-42c6-af22-f5d121f45ab7",
   "metadata": {},
   "outputs": [
    {
     "name": "stdout",
     "output_type": "stream",
     "text": [
      "+----+---+-----------------+\n",
      "|name|age|age_category(age)|\n",
      "+----+---+-----------------+\n",
      "|영준| 24|            young|\n",
      "|철수| 25|            young|\n",
      "|영희| 39|            adult|\n",
      "|맹구| 60|           senior|\n",
      "|짱구| 54|            adult|\n",
      "|민석| 40|            adult|\n",
      "|화성| 70|           senior|\n",
      "+----+---+-----------------+\n",
      "\n"
     ]
    }
   ],
   "source": [
    "spark.sql(\n",
    "    \"SELECT name, age, age_category(age) FROM age_name\").show()"
   ]
  }
 ],
 "metadata": {
  "kernelspec": {
   "display_name": "Python 3 (ipykernel)",
   "language": "python",
   "name": "python3"
  },
  "language_info": {
   "codemirror_mode": {
    "name": "ipython",
    "version": 3
   },
   "file_extension": ".py",
   "mimetype": "text/x-python",
   "name": "python",
   "nbconvert_exporter": "python",
   "pygments_lexer": "ipython3",
   "version": "3.9.13"
  }
 },
 "nbformat": 4,
 "nbformat_minor": 5
}
